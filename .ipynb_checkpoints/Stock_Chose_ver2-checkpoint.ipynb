{
 "cells": [
  {
   "cell_type": "code",
   "execution_count": 1,
   "metadata": {},
   "outputs": [],
   "source": [
    "import os\n",
    "import numpy as np\n",
    "data_date = '2023-01-27'  ## 手動輸出\n",
    "\n",
    "## 讀取stock_result\n",
    "patho = os.getcwd()\n",
    "path = patho + '\\stock_result\\\\' + data_date\n",
    "os.chdir(path)\n",
    "twse_stock_result = np.load('twse_stock_result.npy', allow_pickle='TRUE').item()\n",
    "tpex_stock_result = np.load('tpex_stock_result.npy', allow_pickle='TRUE').item()\n",
    "os.chdir(patho)\n",
    "\n",
    "## 讀取check_result\n",
    "path = patho + '\\check_result\\\\' + data_date\n",
    "os.chdir(path)\n",
    "twse_check_result = np.load('twse_check_result.npy', allow_pickle='TRUE').item()\n",
    "tpex_check_result = np.load('tpex_check_result.npy', allow_pickle='TRUE').item()\n",
    "os.chdir(patho)\n",
    "\n",
    "## 回到原始路徑\n",
    "# os.chdir('D:\\\\WEI\\\\TWStock')"
   ]
  },
  {
   "cell_type": "code",
   "execution_count": 2,
   "metadata": {},
   "outputs": [],
   "source": [
    "## 篩選股票\n",
    "\n",
    "## 策略說明: 投信買超，並沿10MA往上，且目前股價離10MA不超過3% \n",
    "\n",
    "def stock_chose(codes,stock,checks):\n",
    "    stock_chosen = []\n",
    "    for i in range(len(codes)):\n",
    "        code = codes[i]\n",
    "        check = checks[i]\n",
    "\n",
    "        check_n0 = check[0]\n",
    "        check_n1 = check[1]\n",
    "        check_n2 = check[2]\n",
    "        check_n3 = check[3]\n",
    "        \n",
    "        chk_n0_volume = check_n0[1]\n",
    "        chk_n0_ma10 = check_n0[3]\n",
    "        chk_n0_ma20 = check_n0[4]\n",
    "        chk_n0_ma60 = check_n0[5]\n",
    "        \n",
    "        chk_n1_ma10 = check_n1[3]\n",
    "        chk_n2_ma10 = check_n2[3]\n",
    "        chk_n3_ma10 = check_n3[3]\n",
    "        \n",
    "        cond1 = [chk_n0_ma20,chk_n0_ma60]\n",
    "        cond2 = [chk_n0_ma10,chk_n1_ma10,chk_n2_ma10]\n",
    "        chosen = []\n",
    "        if 0 <= chk_n0_ma10 <= 2 and chk_n0_volume > 1000 and min(cond2) > -0.3 and chk_n0_ma20 > 3:                \n",
    "            chosen = [code,check_n0]\n",
    "            stock_chosen.append(chosen)\n",
    "                \n",
    "    return stock_chosen"
   ]
  },
  {
   "cell_type": "code",
   "execution_count": 3,
   "metadata": {},
   "outputs": [],
   "source": [
    "## 篩選股票 2\n",
    "\n",
    "## 策略說明: 投信買超，並沿20MA往上，且目前股價離20MA不超過3% \n",
    "\n",
    "def stock_chose2(codes,stock,checks):\n",
    "    stock_chosen2 = []\n",
    "    for i in range(len(codes)):\n",
    "        code = codes[i]\n",
    "        check = checks[i]\n",
    "\n",
    "        check_n0 = check[0]\n",
    "        check_n1 = check[1]\n",
    "        check_n2 = check[2]\n",
    "        check_n3 = check[3]\n",
    "        \n",
    "        chk_n0_volume = check_n0[1]\n",
    "        chk_n0_ma20 = check_n0[4]\n",
    "        chk_n0_ma60 = check_n0[5]\n",
    "        \n",
    "        chk_n1_ma20 = check_n1[4]\n",
    "        chk_n2_ma20 = check_n2[4]\n",
    "        chk_n3_ma20 = check_n3[4]\n",
    "        \n",
    "        cond1 = [chk_n0_ma60]\n",
    "        cond2 = [chk_n0_ma20,chk_n1_ma20,chk_n2_ma20]\n",
    "        chosen = []\n",
    "        if -0.3 < chk_n0_ma20 <= 3 and chk_n0_volume > 1000 and min(cond2) > -0.3:\n",
    "            chosen = [code,check_n0]\n",
    "            stock_chosen2.append(chosen)\n",
    "                \n",
    "    return stock_chosen2"
   ]
  },
  {
   "cell_type": "code",
   "execution_count": 4,
   "metadata": {},
   "outputs": [],
   "source": [
    "## 篩選股票 3\n",
    "\n",
    "## 策略說明: 投信買超，並剛突破，或是即將突破60MA，且目前股價離60MA不超過3% \n",
    "\n",
    "def stock_chose3(codes,stock,checks):\n",
    "    stock_chosen3 = []\n",
    "    for i in range(len(codes)):\n",
    "        code = codes[i]\n",
    "        check = checks[i]\n",
    "\n",
    "        check_n0 = check[0]\n",
    "        \n",
    "        chk_n0_volume = check_n0[1]\n",
    "        chk_n0_ma5 = check_n0[2]\n",
    "        chk_n0_ma10 = check_n0[3]\n",
    "        chk_n0_ma20 = check_n0[4]\n",
    "        chk_n0_ma60 = check_n0[5]\n",
    "        \n",
    "        cond1 = min(chk_n0_ma20,chk_n0_ma60)\n",
    "        cond2 = min(chk_n0_ma5,chk_n0_ma10)\n",
    "        chosen = []\n",
    "        if -1 <= cond1 <= 3 and cond2 > 0 and chk_n0_ma20 > chk_n0_ma60 and chk_n0_volume > 1000:\n",
    "            chosen = [code,check_n0]\n",
    "            stock_chosen3.append(chosen)\n",
    "                \n",
    "    return stock_chosen3"
   ]
  },
  {
   "cell_type": "code",
   "execution_count": 5,
   "metadata": {},
   "outputs": [
    {
     "name": "stderr",
     "output_type": "stream",
     "text": [
      "C:\\Users\\foys8\\AppData\\Local\\Programs\\Python\\Python39\\lib\\site-packages\\numpy\\lib\\npyio.py:528: VisibleDeprecationWarning: Creating an ndarray from ragged nested sequences (which is a list-or-tuple of lists-or-tuples-or ndarrays with different lengths or shapes) is deprecated. If you meant to do this, you must specify 'dtype=object' when creating the ndarray.\n",
      "  arr = np.asanyarray(arr)\n"
     ]
    }
   ],
   "source": [
    "## 篩選上市股票\n",
    "codes = list(twse_check_result.keys())\n",
    "stocks = list(twse_stock_result.values())\n",
    "checks = list(twse_check_result.values())\n",
    "stock_chosen_twse = stock_chose(codes,stocks,checks)\n",
    "stock_chosen2_twse = stock_chose2(codes,stocks,checks)\n",
    "stock_chosen3_twse = stock_chose3(codes,stocks,checks)\n",
    "\n",
    "\n",
    "## 篩選上櫃股票\n",
    "codes = list(tpex_check_result.keys())\n",
    "stocks = list(tpex_stock_result.values())\n",
    "checks = list(tpex_check_result.values())\n",
    "stock_chosen_tpex = stock_chose(codes,stocks,checks)\n",
    "stock_chosen2_tpex = stock_chose2(codes,stocks,checks)\n",
    "stock_chosen3_tpex = stock_chose3(codes,stocks,checks)\n",
    "\n",
    "## 儲存上市上櫃chosen、chosen2、chosen3成果到電腦\n",
    "import os\n",
    "patho = os.getcwd() \n",
    "os.chdir(os.getcwd() + '\\stock_chosen')\n",
    "\n",
    "pathw = os.getcwd() + '\\\\' + str(data_date)\n",
    "if not os.path.isdir(pathw):\n",
    "    os.mkdir(pathw)\n",
    "\n",
    "os.chdir(pathw)\n",
    "np.save('stock_chosen_twse',stock_chosen_twse)\n",
    "np.save('stock_chosen_tpex',stock_chosen_tpex)\n",
    "np.save('stock_chosen2_twse',stock_chosen2_twse)\n",
    "np.save('stock_chosen2_tpex',stock_chosen2_tpex)\n",
    "np.save('stock_chosen3_twse',stock_chosen3_twse)\n",
    "np.save('stock_chosen3_tpex',stock_chosen3_tpex)\n",
    "os.chdir(patho)"
   ]
  },
  {
   "cell_type": "code",
   "execution_count": 6,
   "metadata": {
    "scrolled": false
   },
   "outputs": [
    {
     "name": "stdout",
     "output_type": "stream",
     "text": [
      "7\n",
      "2377\n",
      "2376\n",
      "2481\n",
      "3034\n",
      "1802\n",
      "5425\n",
      "8044\n"
     ]
    }
   ],
   "source": [
    "## 讀取stock_chosen\n",
    "import os\n",
    "patho = os.getcwd()\n",
    "path = patho + '\\stock_chosen\\\\' + data_date\n",
    "os.chdir(path)\n",
    "stock_chosen_twse = np.load('stock_chosen_twse.npy', allow_pickle='TRUE')\n",
    "stock_chosen_tpex = np.load('stock_chosen_tpex.npy', allow_pickle='TRUE')\n",
    "os.chdir(patho)\n",
    "\n",
    "print(len(stock_chosen_twse)+len(stock_chosen_tpex))\n",
    "for i in stock_chosen_twse:\n",
    "    print(i[0])\n",
    "    \n",
    "for i in stock_chosen_tpex:\n",
    "    print(i[0])"
   ]
  },
  {
   "cell_type": "code",
   "execution_count": 7,
   "metadata": {
    "scrolled": false
   },
   "outputs": [
    {
     "name": "stdout",
     "output_type": "stream",
     "text": [
      "18\n",
      "9904\n",
      "2337\n",
      "2606\n",
      "3706\n",
      "2338\n",
      "3661\n",
      "2449\n",
      "2618\n",
      "1308\n",
      "0056\n",
      "2610\n",
      "3231\n",
      "1102\n",
      "1504\n",
      "3665\n",
      "2707\n",
      "2468\n",
      "6741\n"
     ]
    }
   ],
   "source": [
    "## 讀取stock_chosen2\n",
    "import os\n",
    "patho = os.getcwd()\n",
    "path = patho + '\\stock_chosen\\\\' + data_date\n",
    "os.chdir(path)\n",
    "stock_chosen2_twse = np.load('stock_chosen2_twse.npy', allow_pickle='TRUE')\n",
    "stock_chosen2_tpex = np.load('stock_chosen2_tpex.npy', allow_pickle='TRUE')\n",
    "os.chdir(patho)\n",
    "\n",
    "print(len(stock_chosen2_twse)+len(stock_chosen2_tpex))\n",
    "for i in stock_chosen2_twse:\n",
    "    print(i[0])\n",
    "    \n",
    "for i in stock_chosen2_tpex:\n",
    "    print(i[0])"
   ]
  },
  {
   "cell_type": "code",
   "execution_count": 8,
   "metadata": {
    "scrolled": true
   },
   "outputs": [
    {
     "name": "stdout",
     "output_type": "stream",
     "text": [
      "5\n",
      "2344\n",
      "3665\n",
      "2308\n",
      "1802\n",
      "5425\n"
     ]
    }
   ],
   "source": [
    "## 讀取stock_chosen3\n",
    "import os\n",
    "patho = os.getcwd()\n",
    "path = patho + '\\stock_chosen\\\\' + data_date\n",
    "os.chdir(path)\n",
    "stock_chosen3_twse = np.load('stock_chosen3_twse.npy', allow_pickle='TRUE')\n",
    "stock_chosen3_tpex = np.load('stock_chosen3_tpex.npy', allow_pickle='TRUE')\n",
    "os.chdir(patho)\n",
    "\n",
    "print(len(stock_chosen3_twse)+len(stock_chosen3_tpex))\n",
    "for i in stock_chosen3_twse:\n",
    "    print(i[0])\n",
    "    \n",
    "for i in stock_chosen3_tpex:\n",
    "    print(i[0])"
   ]
  },
  {
   "cell_type": "code",
   "execution_count": null,
   "metadata": {},
   "outputs": [],
   "source": []
  }
 ],
 "metadata": {
  "kernelspec": {
   "display_name": "Python 3 (ipykernel)",
   "language": "python",
   "name": "python3"
  },
  "language_info": {
   "codemirror_mode": {
    "name": "ipython",
    "version": 3
   },
   "file_extension": ".py",
   "mimetype": "text/x-python",
   "name": "python",
   "nbconvert_exporter": "python",
   "pygments_lexer": "ipython3",
   "version": "3.9.9"
  },
  "vscode": {
   "interpreter": {
    "hash": "b59eeb93c2b4375ec8a1efc106d8bb6c2abb2c86b3d2836f5465cf51ed75038d"
   }
  }
 },
 "nbformat": 4,
 "nbformat_minor": 4
}
